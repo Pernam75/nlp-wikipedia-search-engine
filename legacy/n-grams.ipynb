{
 "cells": [
  {
   "cell_type": "code",
   "execution_count": 7,
   "metadata": {},
   "outputs": [],
   "source": [
    "import json\n",
    "with open('../data/cleaned_wiki.json', 'r') as f:\n",
    "    data = json.load(f)"
   ]
  },
  {
   "cell_type": "code",
   "execution_count": 8,
   "metadata": {},
   "outputs": [],
   "source": [
    "def get_n_gram(n, text):\n",
    "    # get word n_gram\n",
    "    words = text.split()\n",
    "    n_gram = []\n",
    "    for i in range(len(words) - n + 1):\n",
    "        n_gram.append(' '.join(words[i:i+n]))\n",
    "    return n_gram"
   ]
  },
  {
   "cell_type": "code",
   "execution_count": 10,
   "metadata": {},
   "outputs": [],
   "source": [
    "def save_n_grams(n, data):\n",
    "    n_gram_dict = {}\n",
    "    for page in data:\n",
    "        if 'summary' in page:\n",
    "            for i, paragraph in enumerate(page['summary']):\n",
    "                n_gram_par = get_n_gram(n, paragraph)\n",
    "                for n_gram in n_gram_par:\n",
    "                    if n_gram in n_gram_dict:\n",
    "                        n_gram_dict[n_gram].append(page['summary_ids'][i])\n",
    "                    else:\n",
    "                        n_gram_dict[n_gram] = [page['summary_ids'][i]]\n",
    "            \n",
    "        for section in page['content']:\n",
    "            for i, paragraph in enumerate(section['paragraphs']):\n",
    "                n_gram_par = get_n_gram(n, paragraph)\n",
    "                for n_gram in n_gram_par:\n",
    "                    if n_gram in n_gram_dict:\n",
    "                        n_gram_dict[n_gram].append(section['ids'][i])\n",
    "                    else:\n",
    "                        n_gram_dict[n_gram] = [section['ids'][i]]\n",
    "    n_gram_dict = dict(sorted(n_gram_dict.items(), key=lambda item: len(item[1]), reverse=True))\n",
    "    with open(f'../data/{n}_grams.json', 'w') as f:\n",
    "        json.dump(n_gram_dict, f)\n",
    "\n",
    "save_n_grams(3, data)\n",
    "save_n_grams(2, data)\n",
    "save_n_grams(1, data)"
   ]
  }
 ],
 "metadata": {
  "kernelspec": {
   "display_name": "wikipedia_nlp",
   "language": "python",
   "name": "python3"
  },
  "language_info": {
   "codemirror_mode": {
    "name": "ipython",
    "version": 3
   },
   "file_extension": ".py",
   "mimetype": "text/x-python",
   "name": "python",
   "nbconvert_exporter": "python",
   "pygments_lexer": "ipython3",
   "version": "3.11.7"
  }
 },
 "nbformat": 4,
 "nbformat_minor": 2
}
