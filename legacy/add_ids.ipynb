{
 "cells": [
  {
   "cell_type": "code",
   "execution_count": 6,
   "metadata": {},
   "outputs": [],
   "source": [
    "import json\n",
    "with open('../data/raw_wiki.json', 'r') as f:\n",
    "    data = json.load(f)"
   ]
  },
  {
   "cell_type": "code",
   "execution_count": 7,
   "metadata": {},
   "outputs": [],
   "source": [
    "# add the ids of the paragraphs\n",
    "index = 0\n",
    "for page in data:\n",
    "    # print the json of the page\n",
    "    if page['summary']:\n",
    "        # add the field summary_ids in 4th level\n",
    "        page['summary_ids'] = []\n",
    "        for paragraph in page['summary']:\n",
    "            page['summary_ids'].append(index)\n",
    "            index += 1\n",
    "    for section in page['content']:\n",
    "        section['ids'] = []\n",
    "        for paragraph in section['paragraphs']:\n",
    "            section['ids'].append(index)\n",
    "            index += 1"
   ]
  },
  {
   "cell_type": "code",
   "execution_count": 8,
   "metadata": {},
   "outputs": [],
   "source": [
    "# save the data with the ids\n",
    "with open('../data/raw_wiki_with_ids.json', 'w') as f:\n",
    "    json.dump(data, f, indent=4)"
   ]
  }
 ],
 "metadata": {
  "kernelspec": {
   "display_name": "wikipedia_nlp",
   "language": "python",
   "name": "python3"
  },
  "language_info": {
   "codemirror_mode": {
    "name": "ipython",
    "version": 3
   },
   "file_extension": ".py",
   "mimetype": "text/x-python",
   "name": "python",
   "nbconvert_exporter": "python",
   "pygments_lexer": "ipython3",
   "version": "3.11.7"
  }
 },
 "nbformat": 4,
 "nbformat_minor": 2
}
