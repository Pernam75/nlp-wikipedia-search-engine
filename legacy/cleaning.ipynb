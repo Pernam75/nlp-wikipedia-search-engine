{
 "cells": [
  {
   "cell_type": "code",
   "execution_count": 8,
   "metadata": {},
   "outputs": [],
   "source": [
    "import re\n",
    "from nltk.corpus import stopwords\n",
    "import json\n",
    "from nltk.stem import PorterStemmer\n",
    "\n",
    "STOPWORDS = set(stopwords.words('english'))\n",
    "\n",
    "def clean_text(text: str) -> str:\n",
    "    # convert to lowercase\n",
    "    lower_cased = text.lower()\n",
    "    # remove references in square brackets\n",
    "    no_references = re.sub(r'\\[.*?\\]', '', lower_cased)\n",
    "    # keep only alphanumeric characters\n",
    "    alphanumeric = re.sub(r'\\W+', ' ', no_references)\n",
    "    # remove strange unicode characters\n",
    "    alphanumeric = re.sub(r'[^\\x00-\\x7F]+', '', alphanumeric)\n",
    "    # remove stopwords\n",
    "    no_stopwords = ' '.join([word for word in alphanumeric.split() if word not in STOPWORDS])\n",
    "    # stemmize\n",
    "    stemmed = ' '.join([PorterStemmer().stem(word) for word in no_stopwords.split()])\n",
    "    return stemmed\n",
    "\n",
    "def clean_page(page: dict) -> dict:\n",
    "    # apply the clean_text function to each paragraph in the page\n",
    "    cleaned_page = {}\n",
    "    # clean the URL and title\n",
    "    cleaned_page['url'], cleaned_page['title'] = page['url'], clean_text(page['title'])\n",
    "    # clean the summary paragraphs\n",
    "    if page['summary']:\n",
    "        cleaned_page['summary_ids'] = page['summary_ids']\n",
    "        cleaned_page['summary'] = [clean_text(paragraph) for paragraph in page['summary']]\n",
    "    # clean the content sections\n",
    "    cleaned_page['content'] = []\n",
    "    for section in page['content']:\n",
    "        if not section['paragraphs']:\n",
    "            continue\n",
    "        cleaned_section = {}\n",
    "        cleaned_section['type'] = section['type']\n",
    "        # clean the section title\n",
    "        cleaned_section['title'] = clean_text(section['title'])\n",
    "        # clean each paragraph in the section\n",
    "        cleaned_section['paragraphs'] = [clean_text(paragraph) for paragraph in section['paragraphs'] if clean_text(paragraph)]\n",
    "        cleaned_section['ids'] = section['ids']\n",
    "        cleaned_page['content'].append(cleaned_section)\n",
    "    return cleaned_page"
   ]
  },
  {
   "cell_type": "code",
   "execution_count": 2,
   "metadata": {},
   "outputs": [],
   "source": [
    "with open('../data/raw_wiki_with_ids.json', 'r') as f:\n",
    "    data = json.load(f)"
   ]
  },
  {
   "cell_type": "code",
   "execution_count": 9,
   "metadata": {},
   "outputs": [],
   "source": [
    "cleaned_data = [clean_page(page) for page in data]"
   ]
  },
  {
   "cell_type": "code",
   "execution_count": 10,
   "metadata": {},
   "outputs": [],
   "source": [
    "# save the cleaned data\n",
    "with open('../data/cleaned_wiki.json', 'w') as f:\n",
    "    json.dump(cleaned_data, f, indent=4)"
   ]
  }
 ],
 "metadata": {
  "kernelspec": {
   "display_name": "wikipedia_nlp",
   "language": "python",
   "name": "python3"
  },
  "language_info": {
   "codemirror_mode": {
    "name": "ipython",
    "version": 3
   },
   "file_extension": ".py",
   "mimetype": "text/x-python",
   "name": "python",
   "nbconvert_exporter": "python",
   "pygments_lexer": "ipython3",
   "version": "3.11.7"
  }
 },
 "nbformat": 4,
 "nbformat_minor": 2
}
